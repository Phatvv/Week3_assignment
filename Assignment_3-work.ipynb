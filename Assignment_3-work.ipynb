{
 "cells": [
  {
   "cell_type": "markdown",
   "metadata": {},
   "source": [
    "[Bag of Words Meets Bags of Popcorn](https://www.kaggle.com/c/word2vec-nlp-tutorial/data)\n",
    "======\n",
    "\n",
    "## Data Set\n",
    "\n",
    "The labeled data set consists of 50,000 IMDB movie reviews, specially selected for sentiment analysis. The sentiment of reviews is binary, meaning the IMDB rating < 5 results in a sentiment score of 0, and rating >=7 have a sentiment score of 1. No individual movie has more than 30 reviews. The 25,000 review labeled training set does not include any of the same movies as the 25,000 review test set. In addition, there are another 50,000 IMDB reviews provided without any rating labels.\n",
    "\n",
    "## File descriptions\n",
    "\n",
    "labeledTrainData - The labeled training set. The file is tab-delimited and has a header row followed by 25,000 rows containing an id, sentiment, and text for each review.\n",
    "## Data fields\n",
    "\n",
    "* id - Unique ID of each review\n",
    "* sentiment - Sentiment of the review; 1 for positive reviews and 0 for negative reviews\n",
    "* review - Text of the review\n",
    "\n",
    "## Objective\n",
    "Objective of this dataset is base on **review** we predict **sentiment** (positive or negative) so X is **review** column and y is **sentiment** column"
   ]
  },
  {
   "cell_type": "markdown",
   "metadata": {},
   "source": [
    "## 1. Load Dataset\n",
    "we only forcus on \"labeledTrainData.csv\" file\n",
    "\n",
    "Let's first of all have a look at the data.\n",
    "\n",
    "[Click here to download dataset](https://s3-ap-southeast-1.amazonaws.com/ml101-khanhnguyen/week3/assignment/labeledTrainData.tsv)"
   ]
  },
  {
   "cell_type": "code",
   "execution_count": 2,
   "metadata": {},
   "outputs": [],
   "source": [
    "# Import pandas, numpy\n",
    "import pandas as pd\n",
    "import numpy as np"
   ]
  },
  {
   "cell_type": "code",
   "execution_count": 12,
   "metadata": {},
   "outputs": [
    {
     "data": {
      "text/html": [
       "<div>\n",
       "<style scoped>\n",
       "    .dataframe tbody tr th:only-of-type {\n",
       "        vertical-align: middle;\n",
       "    }\n",
       "\n",
       "    .dataframe tbody tr th {\n",
       "        vertical-align: top;\n",
       "    }\n",
       "\n",
       "    .dataframe thead th {\n",
       "        text-align: right;\n",
       "    }\n",
       "</style>\n",
       "<table border=\"1\" class=\"dataframe\">\n",
       "  <thead>\n",
       "    <tr style=\"text-align: right;\">\n",
       "      <th></th>\n",
       "      <th>id</th>\n",
       "      <th>sentiment</th>\n",
       "      <th>review</th>\n",
       "    </tr>\n",
       "  </thead>\n",
       "  <tbody>\n",
       "    <tr>\n",
       "      <th>3290</th>\n",
       "      <td>2819_10</td>\n",
       "      <td>1</td>\n",
       "      <td>This movie is bufoonery! and I loved it! The \\...</td>\n",
       "    </tr>\n",
       "    <tr>\n",
       "      <th>16450</th>\n",
       "      <td>4467_1</td>\n",
       "      <td>0</td>\n",
       "      <td>&lt;br /&gt;&lt;br /&gt;I'm not sure who decides what cate...</td>\n",
       "    </tr>\n",
       "    <tr>\n",
       "      <th>3959</th>\n",
       "      <td>2641_10</td>\n",
       "      <td>1</td>\n",
       "      <td>Green Eyes is a great movie. In todays context...</td>\n",
       "    </tr>\n",
       "    <tr>\n",
       "      <th>3163</th>\n",
       "      <td>7320_4</td>\n",
       "      <td>0</td>\n",
       "      <td>A bondage, humiliation, S&amp;M show, and not much...</td>\n",
       "    </tr>\n",
       "    <tr>\n",
       "      <th>20644</th>\n",
       "      <td>1028_3</td>\n",
       "      <td>0</td>\n",
       "      <td>I don't remember the last time I reacted to a ...</td>\n",
       "    </tr>\n",
       "    <tr>\n",
       "      <th>20726</th>\n",
       "      <td>10738_9</td>\n",
       "      <td>1</td>\n",
       "      <td>SPOILERS 9/11 is a very good and VERY realisti...</td>\n",
       "    </tr>\n",
       "    <tr>\n",
       "      <th>7707</th>\n",
       "      <td>821_10</td>\n",
       "      <td>1</td>\n",
       "      <td>After \\Star Wars: A New Hope\\\" redefined scien...</td>\n",
       "    </tr>\n",
       "    <tr>\n",
       "      <th>16526</th>\n",
       "      <td>349_10</td>\n",
       "      <td>1</td>\n",
       "      <td>Call me stupid, but I absolutely loved the 200...</td>\n",
       "    </tr>\n",
       "    <tr>\n",
       "      <th>22597</th>\n",
       "      <td>3214_3</td>\n",
       "      <td>0</td>\n",
       "      <td>First of all, I'd like to tell you that I'm in...</td>\n",
       "    </tr>\n",
       "    <tr>\n",
       "      <th>17798</th>\n",
       "      <td>5995_1</td>\n",
       "      <td>0</td>\n",
       "      <td>This is a truly awful film. What they have don...</td>\n",
       "    </tr>\n",
       "  </tbody>\n",
       "</table>\n",
       "</div>"
      ],
      "text/plain": [
       "            id  sentiment                                             review\n",
       "3290   2819_10          1  This movie is bufoonery! and I loved it! The \\...\n",
       "16450   4467_1          0  <br /><br />I'm not sure who decides what cate...\n",
       "3959   2641_10          1  Green Eyes is a great movie. In todays context...\n",
       "3163    7320_4          0  A bondage, humiliation, S&M show, and not much...\n",
       "20644   1028_3          0  I don't remember the last time I reacted to a ...\n",
       "20726  10738_9          1  SPOILERS 9/11 is a very good and VERY realisti...\n",
       "7707    821_10          1  After \\Star Wars: A New Hope\\\" redefined scien...\n",
       "16526   349_10          1  Call me stupid, but I absolutely loved the 200...\n",
       "22597   3214_3          0  First of all, I'd like to tell you that I'm in...\n",
       "17798   5995_1          0  This is a truly awful film. What they have don..."
      ]
     },
     "execution_count": 12,
     "metadata": {},
     "output_type": "execute_result"
    }
   ],
   "source": [
    "sentiment = pd.read_csv('labeledTrainData.tsv',sep='\\t', encoding='latin-1')\n",
    "sentiment.head(10)\n",
    "sentiment.sample(10)"
   ]
  },
  {
   "cell_type": "code",
   "execution_count": 11,
   "metadata": {},
   "outputs": [
    {
     "data": {
      "text/html": [
       "<div>\n",
       "<style scoped>\n",
       "    .dataframe tbody tr th:only-of-type {\n",
       "        vertical-align: middle;\n",
       "    }\n",
       "\n",
       "    .dataframe tbody tr th {\n",
       "        vertical-align: top;\n",
       "    }\n",
       "\n",
       "    .dataframe thead th {\n",
       "        text-align: right;\n",
       "    }\n",
       "</style>\n",
       "<table border=\"1\" class=\"dataframe\">\n",
       "  <thead>\n",
       "    <tr style=\"text-align: right;\">\n",
       "      <th></th>\n",
       "      <th>id</th>\n",
       "      <th>sentiment</th>\n",
       "      <th>review</th>\n",
       "    </tr>\n",
       "  </thead>\n",
       "  <tbody>\n",
       "    <tr>\n",
       "      <th>24504</th>\n",
       "      <td>12114_4</td>\n",
       "      <td>0</td>\n",
       "      <td>The strange people living in a town go about t...</td>\n",
       "    </tr>\n",
       "    <tr>\n",
       "      <th>22079</th>\n",
       "      <td>8356_4</td>\n",
       "      <td>0</td>\n",
       "      <td>Peter Fonda is so intentionally enervated as a...</td>\n",
       "    </tr>\n",
       "    <tr>\n",
       "      <th>19733</th>\n",
       "      <td>11142_1</td>\n",
       "      <td>0</td>\n",
       "      <td>This is the absolutely worst piece of crap I'v...</td>\n",
       "    </tr>\n",
       "    <tr>\n",
       "      <th>12746</th>\n",
       "      <td>5311_7</td>\n",
       "      <td>1</td>\n",
       "      <td>John Waters most accessible film to date is on...</td>\n",
       "    </tr>\n",
       "    <tr>\n",
       "      <th>2954</th>\n",
       "      <td>7884_7</td>\n",
       "      <td>1</td>\n",
       "      <td>WARNING!!! TONS OF DEAD GIVEAWAYS!!! DON'T REA...</td>\n",
       "    </tr>\n",
       "    <tr>\n",
       "      <th>23514</th>\n",
       "      <td>5792_10</td>\n",
       "      <td>1</td>\n",
       "      <td>This movie is the only movie to feature a scen...</td>\n",
       "    </tr>\n",
       "    <tr>\n",
       "      <th>19000</th>\n",
       "      <td>1277_10</td>\n",
       "      <td>1</td>\n",
       "      <td>I consider this film to be the best one about ...</td>\n",
       "    </tr>\n",
       "    <tr>\n",
       "      <th>12536</th>\n",
       "      <td>6562_4</td>\n",
       "      <td>0</td>\n",
       "      <td>You can tell a Lew Grade production a mile off...</td>\n",
       "    </tr>\n",
       "    <tr>\n",
       "      <th>7738</th>\n",
       "      <td>7725_2</td>\n",
       "      <td>0</td>\n",
       "      <td>This movie is one of the most unintentionally ...</td>\n",
       "    </tr>\n",
       "    <tr>\n",
       "      <th>1137</th>\n",
       "      <td>4725_1</td>\n",
       "      <td>0</td>\n",
       "      <td>A great opportunity for and Indy director to m...</td>\n",
       "    </tr>\n",
       "  </tbody>\n",
       "</table>\n",
       "</div>"
      ],
      "text/plain": [
       "            id  sentiment                                             review\n",
       "24504  12114_4          0  The strange people living in a town go about t...\n",
       "22079   8356_4          0  Peter Fonda is so intentionally enervated as a...\n",
       "19733  11142_1          0  This is the absolutely worst piece of crap I'v...\n",
       "12746   5311_7          1  John Waters most accessible film to date is on...\n",
       "2954    7884_7          1  WARNING!!! TONS OF DEAD GIVEAWAYS!!! DON'T REA...\n",
       "23514  5792_10          1  This movie is the only movie to feature a scen...\n",
       "19000  1277_10          1  I consider this film to be the best one about ...\n",
       "12536   6562_4          0  You can tell a Lew Grade production a mile off...\n",
       "7738    7725_2          0  This movie is one of the most unintentionally ...\n",
       "1137    4725_1          0  A great opportunity for and Indy director to m..."
      ]
     },
     "execution_count": 11,
     "metadata": {},
     "output_type": "execute_result"
    }
   ],
   "source": [
    "# Read dataset with extra params sep='\\t', encoding=\"latin-1\"\n"
   ]
  },
  {
   "cell_type": "markdown",
   "metadata": {},
   "source": [
    "## 2. Preprocessing"
   ]
  },
  {
   "cell_type": "code",
   "execution_count": 30,
   "metadata": {},
   "outputs": [
    {
     "name": "stdout",
     "output_type": "stream",
     "text": [
      "Counter({'blue': 3, 'red': 2, 'green': 1})\n",
      "[('blue', 3), ('red', 2)]\n"
     ]
    }
   ],
   "source": [
    "from collections import Counter\n",
    "\n",
    "# Example\n",
    "count = Counter()\n",
    "for word in ['red', 'blue', 'red', 'green', 'blue', 'blue']:\n",
    "    count[word] += 1\n",
    "print(count)\n",
    "print(count.most_common(2))"
   ]
  },
  {
   "cell_type": "code",
   "execution_count": 32,
   "metadata": {},
   "outputs": [
    {
     "data": {
      "text/plain": [
       "[('the', 287027),\n",
       " ('a', 155095),\n",
       " ('and', 152662),\n",
       " ('of', 142971),\n",
       " ('to', 132568),\n",
       " ('is', 103227),\n",
       " ('in', 85578),\n",
       " ('I', 65973),\n",
       " ('that', 64555),\n",
       " ('this', 57196),\n",
       " ('it', 54420),\n",
       " ('/><br', 50935),\n",
       " ('was', 46697),\n",
       " ('as', 42509),\n",
       " ('with', 41719),\n",
       " ('for', 41067),\n",
       " ('but', 33790),\n",
       " ('The', 33762),\n",
       " ('on', 30765),\n",
       " ('movie', 30496)]"
      ]
     },
     "execution_count": 32,
     "metadata": {},
     "output_type": "execute_result"
    }
   ],
   "source": [
    "vocab = Counter()\n",
    "\n",
    "# Let's apply the example above to count words in our SentimentText\n",
    "# Your code here\n",
    "sentiment.review\n",
    "for row in sentiment.review:\n",
    "    for word in row.split():\n",
    "        vocab[word] += 1\n",
    "vocab.most_common(20)"
   ]
  },
  {
   "cell_type": "code",
   "execution_count": 33,
   "metadata": {},
   "outputs": [
    {
     "name": "stdout",
     "output_type": "stream",
     "text": [
      "[nltk_data] Downloading package stopwords to\n",
      "[nltk_data]     /Users/phatvo/nltk_data...\n",
      "[nltk_data]   Package stopwords is already up-to-date!\n"
     ]
    },
    {
     "data": {
      "text/plain": [
       "True"
      ]
     },
     "execution_count": 33,
     "metadata": {},
     "output_type": "execute_result"
    }
   ],
   "source": [
    "# stop words\n",
    "import nltk\n",
    "\n",
    "nltk.download('stopwords')"
   ]
  },
  {
   "cell_type": "code",
   "execution_count": 34,
   "metadata": {},
   "outputs": [
    {
     "data": {
      "text/plain": [
       "[('I', 65973),\n",
       " ('/><br', 50935),\n",
       " ('The', 33762),\n",
       " ('movie', 30496),\n",
       " ('film', 27394),\n",
       " ('one', 20685),\n",
       " ('like', 18133),\n",
       " ('This', 12279),\n",
       " ('would', 11922),\n",
       " ('good', 11435),\n",
       " ('It', 10952),\n",
       " ('really', 10814),\n",
       " ('even', 10607),\n",
       " ('see', 10154),\n",
       " ('-', 9355),\n",
       " ('get', 8776),\n",
       " ('story', 8523),\n",
       " ('much', 8507),\n",
       " ('time', 7762),\n",
       " ('make', 7485)]"
      ]
     },
     "execution_count": 34,
     "metadata": {},
     "output_type": "execute_result"
    }
   ],
   "source": [
    "from nltk.corpus import stopwords\n",
    "stop = stopwords.words('english')\n",
    "\n",
    "vocab_reduced = Counter()\n",
    "# Go through all of the items of vocab using vocab.items() and pick only words that are not in 'stop' \n",
    "# and save them in vocab_reduced\n",
    "# Your code here\n",
    "for word, c in vocab.items():\n",
    "    if not word in stop:\n",
    "        vocab_reduced[word] = c\n",
    "\n",
    "vocab_reduced.most_common(20)"
   ]
  },
  {
   "cell_type": "code",
   "execution_count": 35,
   "metadata": {},
   "outputs": [
    {
     "name": "stdout",
     "output_type": "stream",
     "text": [
      " \n"
     ]
    }
   ],
   "source": [
    "# Removing special characters and \"trash\"\n",
    "import re\n",
    "def preprocessor(text):\n",
    "    # Remove HTML markup\n",
    "    text = re.sub('<[^>]*>', '', text)\n",
    "    #text = None # Your code here\n",
    "    \n",
    "    # Save emoticons for later appending\n",
    "    # Your code here\n",
    "    emoticons = re.findall('(?::|;|=)(?:-)?(?:\\)|\\(|D|P)', text)\n",
    "    \n",
    "    # Remove any non-word character and append the emoticons,\n",
    "    # removing the nose character for standarization. Convert to lower case\n",
    "    # Your code here\n",
    "    text = (re.sub('[\\W]+', ' ', text.lower()) + ' ' + ' '.join(emoticons).replace('-', ''))\n",
    "\n",
    "    return text\n",
    "print(preprocessor(''))\n",
    "   "
   ]
  },
  {
   "cell_type": "code",
   "execution_count": 36,
   "metadata": {},
   "outputs": [
    {
     "name": "stdout",
     "output_type": "stream",
     "text": [
      "['to', 'break', 'down', 'our', 'twits', 'in', 'individual', 'words']\n",
      "['to', 'break', 'down', 'our', 'twit', 'in', 'individu', 'word']\n"
     ]
    }
   ],
   "source": [
    "# tokenizer and stemming\n",
    "# tokenizer: to break down our twits in individual words\n",
    "# stemming: reducing a word to its root\n",
    "from nltk.stem import PorterStemmer\n",
    "# Your code here\n",
    "porter = PorterStemmer()\n",
    "def tokenizer(text):\n",
    "    token = [] \n",
    "    token = text.split()\n",
    "    \n",
    "    return token\n",
    "\n",
    "def tokenizer_porter(text):\n",
    "    token = []\n",
    "    # Your code here\n",
    "    token = [porter.stem(word) for word in text.split()]\n",
    "    return token\n",
    "    # Your code here\n",
    "print(tokenizer('to break down our twits in individual words'))\n",
    "print(tokenizer_porter('to break down our twits in individual words'))"
   ]
  },
  {
   "cell_type": "code",
   "execution_count": 37,
   "metadata": {},
   "outputs": [],
   "source": [
    "# split the dataset in train and test\n",
    "# Your code here\n",
    "from sklearn.model_selection import train_test_split\n",
    "X = sentiment.review\n",
    "y = sentiment.sentiment\n",
    "X_train, X_test, y_train, y_test = train_test_split(X, y, test_size=0.3, random_state=101)"
   ]
  },
  {
   "cell_type": "markdown",
   "metadata": {},
   "source": [
    "## 3. Create Model and Train \n",
    "\n",
    "Using **Pipeline** to concat **tfidf** step and **LogisticRegression** step"
   ]
  },
  {
   "cell_type": "code",
   "execution_count": 38,
   "metadata": {},
   "outputs": [
    {
     "data": {
      "text/plain": [
       "Pipeline(memory=None,\n",
       "     steps=[('vect', TfidfVectorizer(analyzer='word', binary=False, decode_error='strict',\n",
       "        dtype=<class 'numpy.int64'>, encoding='utf-8', input='content',\n",
       "        lowercase=True, max_df=1.0, max_features=None, min_df=1,\n",
       "        ngram_range=(1, 1), norm='l2',\n",
       "        preprocessor=<function preproc...nalty='l2', random_state=0, solver='liblinear', tol=0.0001,\n",
       "          verbose=0, warm_start=False))])"
      ]
     },
     "execution_count": 38,
     "metadata": {},
     "output_type": "execute_result"
    }
   ],
   "source": [
    "# Import Pipeline, LogisticRegression, TfidfVectorizer\n",
    "from sklearn.pipeline import Pipeline\n",
    "from sklearn.linear_model import LogisticRegression\n",
    "from sklearn.feature_extraction.text import TfidfVectorizer\n",
    "\n",
    "tfidf = TfidfVectorizer(stop_words=stop,\n",
    "                        tokenizer=tokenizer_porter,\n",
    "                        preprocessor=preprocessor) # Your code here\n",
    "\n",
    "clf = Pipeline([('vect', tfidf),\n",
    "                ('clf', LogisticRegression(random_state=0))]) # Your code here)\n",
    "clf.fit(X_train, y_train)"
   ]
  },
  {
   "cell_type": "markdown",
   "metadata": {},
   "source": [
    "## 4. Evaluate Model"
   ]
  },
  {
   "cell_type": "code",
   "execution_count": 40,
   "metadata": {},
   "outputs": [
    {
     "name": "stdout",
     "output_type": "stream",
     "text": [
      "             precision    recall  f1-score   support\n",
      "\n",
      "          0       0.90      0.87      0.88      3796\n",
      "          1       0.87      0.90      0.89      3704\n",
      "\n",
      "avg / total       0.89      0.89      0.89      7500\n",
      "\n",
      "This is really bad --> Positive, Negative = [0.99610592 0.00389408]\n",
      "I love this! --> Positive, Negative = [0.02367402 0.97632598]\n",
      ":) --> Positive, Negative = [0.18672254 0.81327746]\n"
     ]
    }
   ],
   "source": [
    "# Using Test dataset to evaluate model\n",
    "# classification_report\n",
    "# confusion matrix\n",
    "from sklearn.metrics import accuracy_score, confusion_matrix, classification_report\n",
    "print(classification_report(y_test, clf.predict(X_test)))\n",
    "\n",
    "twits = [\n",
    "    \"This is really bad\",\n",
    "    \"I love this!\",\n",
    "    \":)\",\n",
    "]\n",
    "\n",
    "preds = clf.predict_proba(twits)\n",
    "\n",
    "for i in range(len(twits)):\n",
    "    print(f'{twits[i]} --> Positive, Negative = {preds[i]}')"
   ]
  },
  {
   "cell_type": "markdown",
   "metadata": {},
   "source": [
    "## 5. Export Model "
   ]
  },
  {
   "cell_type": "code",
   "execution_count": 43,
   "metadata": {},
   "outputs": [],
   "source": [
    "# Using pickle to export our trained model\n",
    "import pickle\n",
    "import os\n",
    "pickle.dump(clf, open('logisticRegression.pkl', 'wb'), protocol=4)"
   ]
  }
 ],
 "metadata": {
  "kernelspec": {
   "display_name": "Python 3",
   "language": "python",
   "name": "python3"
  },
  "language_info": {
   "codemirror_mode": {
    "name": "ipython",
    "version": 3
   },
   "file_extension": ".py",
   "mimetype": "text/x-python",
   "name": "python",
   "nbconvert_exporter": "python",
   "pygments_lexer": "ipython3",
   "version": "3.7.0"
  }
 },
 "nbformat": 4,
 "nbformat_minor": 2
}
